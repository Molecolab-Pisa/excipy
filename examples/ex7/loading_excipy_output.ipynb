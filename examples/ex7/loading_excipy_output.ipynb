{
 "cells": [
  {
   "cell_type": "code",
   "execution_count": 1,
   "id": "5564d018-7c4f-4588-bc76-eee39a9f502c",
   "metadata": {},
   "outputs": [],
   "source": [
    "#: ex7\n",
    "#: Loading excipy output"
   ]
  },
  {
   "cell_type": "code",
   "execution_count": 3,
   "id": "08f7125c-7c6a-4438-93cb-a500b921aea3",
   "metadata": {},
   "outputs": [],
   "source": [
    "import numpy as np\n",
    "import matplotlib.pyplot as plt\n",
    "\n",
    "%matplotlib inline\n",
    "import excipy"
   ]
  },
  {
   "cell_type": "code",
   "execution_count": 4,
   "id": "2e69963b-aeb9-4a70-a878-bd1aa3d6e620",
   "metadata": {},
   "outputs": [],
   "source": [
    "# Excipy output file\n",
    "excipy_out = \"../data/out.h5\""
   ]
  },
  {
   "cell_type": "code",
   "execution_count": 6,
   "id": "0ef584a5-5f1e-4221-9310-d36f8ca92566",
   "metadata": {},
   "outputs": [
    {
     "name": "stdout",
     "output_type": "stream",
     "text": [
      "['234', '235', '236', '237', '238', '239', '240', '241', '242', '243', '244', '245', '246']\n"
     ]
    }
   ],
   "source": [
    "# Load the residue IDs\n",
    "residue_ids = excipy.util.load_residue_ids(excipy_out)\n",
    "print(list(residue_ids))"
   ]
  },
  {
   "cell_type": "code",
   "execution_count": 9,
   "id": "062014e4-de75-4681-9c1a-7f80574e48f0",
   "metadata": {},
   "outputs": [
    {
     "name": "stdout",
     "output_type": "stream",
     "text": [
      "5\n"
     ]
    }
   ],
   "source": [
    "# Load the number of frames\n",
    "n_frames = excipy.util.load_n_frames(excipy_out)\n",
    "print(n_frames)"
   ]
  },
  {
   "cell_type": "code",
   "execution_count": 19,
   "id": "78ed4cb2-3448-4494-a493-14cf9c3cdb71",
   "metadata": {},
   "outputs": [
    {
     "name": "stdout",
     "output_type": "stream",
     "text": [
      "Residue ID: 234 Atomic numbers: [12  6  6 ...  1  1  1]\n",
      "Residue ID: 235 Atomic numbers: [12  6  6 ...  1  1  1]\n",
      "Residue ID: 236 Atomic numbers: [12  6  6 ...  1  1  1]\n",
      "Residue ID: 237 Atomic numbers: [12  6  6 ...  1  1  1]\n",
      "Residue ID: 238 Atomic numbers: [12  6  6 ...  1  1  1]\n",
      "Residue ID: 239 Atomic numbers: [12  6  6 ...  1  1  1]\n",
      "Residue ID: 240 Atomic numbers: [12  6  6 ...  1  1  1]\n",
      "Residue ID: 241 Atomic numbers: [12  6  6 ...  1  1  1]\n",
      "Residue ID: 242 Atomic numbers: [12  6  6 ...  1  1  1]\n",
      "Residue ID: 243 Atomic numbers: [12  6  6 ...  1  1  1]\n",
      "Residue ID: 244 Atomic numbers: [12  6  6 ...  1  1  1]\n",
      "Residue ID: 245 Atomic numbers: [12  6  6 ...  1  1  1]\n",
      "Residue ID: 246 Atomic numbers: [12  6  6 ...  1  1  1]\n"
     ]
    }
   ],
   "source": [
    "# Load the atomic numbers\n",
    "atnums = excipy.util.load_atom_numbers(excipy_out)\n",
    "for resid in atnums.keys():\n",
    "    print(\"Residue ID:\", resid, \"Atomic numbers:\", atnums[resid])"
   ]
  },
  {
   "cell_type": "code",
   "execution_count": 24,
   "id": "f90d8877-9cae-44bd-80a7-800d55e885cb",
   "metadata": {},
   "outputs": [
    {
     "name": "stdout",
     "output_type": "stream",
     "text": [
      "Residue ID: 234 xyz.shape: (5, 73, 3)\n",
      "Residue ID: 235 xyz.shape: (5, 73, 3)\n",
      "Residue ID: 236 xyz.shape: (5, 73, 3)\n",
      "Residue ID: 237 xyz.shape: (5, 73, 3)\n",
      "Residue ID: 238 xyz.shape: (5, 72, 3)\n",
      "Residue ID: 239 xyz.shape: (5, 72, 3)\n",
      "Residue ID: 240 xyz.shape: (5, 72, 3)\n",
      "Residue ID: 241 xyz.shape: (5, 73, 3)\n",
      "Residue ID: 242 xyz.shape: (5, 73, 3)\n",
      "Residue ID: 243 xyz.shape: (5, 73, 3)\n",
      "Residue ID: 244 xyz.shape: (5, 73, 3)\n",
      "Residue ID: 245 xyz.shape: (5, 73, 3)\n",
      "Residue ID: 246 xyz.shape: (5, 73, 3)\n"
     ]
    }
   ],
   "source": [
    "# Load the atomic coodinates\n",
    "coords = excipy.util.load_coords(excipy_out)\n",
    "for resid in coords.keys():\n",
    "    # Shape is (n_frames, n_atoms, 3)\n",
    "    print(\"Residue ID:\", resid, \"xyz.shape:\", coords[resid].shape)"
   ]
  },
  {
   "cell_type": "code",
   "execution_count": 41,
   "id": "23038633-fe0f-40a0-8f27-addb5861cbb3",
   "metadata": {},
   "outputs": [
    {
     "name": "stdout",
     "output_type": "stream",
     "text": [
      "Residue ID: 234 vacuum shape: (5, 73) EE QM/MM shape: (5, 73)\n",
      "Residue ID: 235 vacuum shape: (5, 73) EE QM/MM shape: (5, 73)\n",
      "Residue ID: 236 vacuum shape: (5, 73) EE QM/MM shape: (5, 73)\n",
      "Residue ID: 237 vacuum shape: (5, 73) EE QM/MM shape: (5, 73)\n",
      "Residue ID: 238 vacuum shape: (5, 72) EE QM/MM shape: (5, 72)\n",
      "Residue ID: 239 vacuum shape: (5, 72) EE QM/MM shape: (5, 72)\n",
      "Residue ID: 240 vacuum shape: (5, 72) EE QM/MM shape: (5, 72)\n",
      "Residue ID: 241 vacuum shape: (5, 73) EE QM/MM shape: (5, 73)\n",
      "Residue ID: 242 vacuum shape: (5, 73) EE QM/MM shape: (5, 73)\n",
      "Residue ID: 243 vacuum shape: (5, 73) EE QM/MM shape: (5, 73)\n",
      "Residue ID: 244 vacuum shape: (5, 73) EE QM/MM shape: (5, 73)\n",
      "Residue ID: 245 vacuum shape: (5, 73) EE QM/MM shape: (5, 73)\n",
      "Residue ID: 246 vacuum shape: (5, 73) EE QM/MM shape: (5, 73)\n"
     ]
    }
   ],
   "source": [
    "# Load the transition charges\n",
    "vac_trq = excipy.util.load_tresp_charges(excipy_out, kind=\"vac\")\n",
    "ee_qmmm_trq = excipy.util.load_tresp_charges(excipy_out, kind=\"env\")\n",
    "\n",
    "for resid in vac_trq.keys():\n",
    "    print(\n",
    "        \"Residue ID:\",\n",
    "        resid,\n",
    "        \"vacuum shape:\",\n",
    "        vac_trq[resid].shape,\n",
    "        \"EE QM/MM shape:\",\n",
    "        ee_qmmm_trq[resid].shape,\n",
    "    )"
   ]
  },
  {
   "cell_type": "code",
   "execution_count": 42,
   "id": "2fd7baae-a52e-4a12-bdae-cdf03f3e7318",
   "metadata": {},
   "outputs": [
    {
     "name": "stdout",
     "output_type": "stream",
     "text": [
      "Residue ID: 234 vacuum shape: (5, 3) EE QM/MM shape: (5, 3)\n",
      "Residue ID: 235 vacuum shape: (5, 3) EE QM/MM shape: (5, 3)\n",
      "Residue ID: 236 vacuum shape: (5, 3) EE QM/MM shape: (5, 3)\n",
      "Residue ID: 237 vacuum shape: (5, 3) EE QM/MM shape: (5, 3)\n",
      "Residue ID: 238 vacuum shape: (5, 3) EE QM/MM shape: (5, 3)\n",
      "Residue ID: 239 vacuum shape: (5, 3) EE QM/MM shape: (5, 3)\n",
      "Residue ID: 240 vacuum shape: (5, 3) EE QM/MM shape: (5, 3)\n",
      "Residue ID: 241 vacuum shape: (5, 3) EE QM/MM shape: (5, 3)\n",
      "Residue ID: 242 vacuum shape: (5, 3) EE QM/MM shape: (5, 3)\n",
      "Residue ID: 243 vacuum shape: (5, 3) EE QM/MM shape: (5, 3)\n",
      "Residue ID: 244 vacuum shape: (5, 3) EE QM/MM shape: (5, 3)\n",
      "Residue ID: 245 vacuum shape: (5, 3) EE QM/MM shape: (5, 3)\n",
      "Residue ID: 246 vacuum shape: (5, 3) EE QM/MM shape: (5, 3)\n",
      "\n",
      "[ 0.74033405 -1.90364007  0.47245214]\n",
      "[ 0.8958042  -2.30340449  0.57166709]\n"
     ]
    }
   ],
   "source": [
    "# Load the transition dipoles\n",
    "vac_trdip = excipy.util.load_dipoles(excipy_out, kind=\"vac\")\n",
    "ee_qmmm_trdip = excipy.util.load_dipoles(excipy_out, kind=\"env\")\n",
    "\n",
    "for resid in vac_trdip.keys():\n",
    "    print(\n",
    "        \"Residue ID:\",\n",
    "        resid,\n",
    "        \"vacuum shape:\",\n",
    "        vac_trdip[resid].shape,\n",
    "        \"EE QM/MM shape:\",\n",
    "        ee_qmmm_trdip[resid].shape,\n",
    "    )\n",
    "\n",
    "print()\n",
    "print(vac_trdip[resid][0])\n",
    "print(ee_qmmm_trdip[resid][0])"
   ]
  },
  {
   "cell_type": "code",
   "execution_count": 66,
   "id": "73de1def-1d59-427c-8542-0a9cf572bb76",
   "metadata": {},
   "outputs": [
    {
     "name": "stdout",
     "output_type": "stream",
     "text": [
      "Residue ID: 236_241 vacuum shape: (5,) EE QM/MM shape: (5,) QM/MMPol shape: (5,)\n",
      "Residue ID: 237_238 vacuum shape: (5,) EE QM/MM shape: (5,) QM/MMPol shape: (5,)\n",
      "Residue ID: 243_244 vacuum shape: (5,) EE QM/MM shape: (5,) QM/MMPol shape: (5,)\n",
      "vacuum: 212.51 cm-1 \t EE QM/MM: 311.14 cm-1 \t QM/MMPol: -78.42 cm-1\n"
     ]
    }
   ],
   "source": [
    "# Load the Coulomb couplings\n",
    "vac_coups = excipy.util.load_couplings(excipy_out, kind=\"vac\")\n",
    "ee_qmmm_coups = excipy.util.load_couplings(excipy_out, kind=\"env\")\n",
    "qmmmpol_coups = excipy.util.load_couplings(excipy_out, kind=\"env_pol\")\n",
    "\n",
    "\n",
    "for resid in vac_coups.keys():\n",
    "    print(\n",
    "        \"Residue ID:\",\n",
    "        resid,\n",
    "        \"vacuum shape:\",\n",
    "        vac_coups[resid].shape,\n",
    "        \"EE QM/MM shape:\",\n",
    "        ee_qmmm_coups[resid].shape,\n",
    "        \"QM/MMPol shape:\",\n",
    "        qmmmpol_coups[resid].shape,\n",
    "    )\n",
    "\n",
    "\n",
    "print(\n",
    "    \"vacuum: {:.2f} cm-1 \\t EE QM/MM: {:.2f} cm-1 \\t QM/MMPol: {:.2f} cm-1\".format(\n",
    "        vac_coups[resid][0], ee_qmmm_coups[resid][0], qmmmpol_coups[resid][0]\n",
    "    )\n",
    ")"
   ]
  },
  {
   "cell_type": "code",
   "execution_count": 77,
   "id": "f7075de7-f2fa-439f-af19-e7fd2a03bab5",
   "metadata": {},
   "outputs": [
    {
     "name": "stdout",
     "output_type": "stream",
     "text": [
      "Residue ID: 234 vacuum shape: (5,) EE QM/MM shape: (5,) QM/MMPol shape: (5,)\n",
      "Residue ID: 235 vacuum shape: (5,) EE QM/MM shape: (5,) QM/MMPol shape: (5,)\n",
      "Residue ID: 236 vacuum shape: (5,) EE QM/MM shape: (5,) QM/MMPol shape: (5,)\n",
      "Residue ID: 237 vacuum shape: (5,) EE QM/MM shape: (5,) QM/MMPol shape: (5,)\n",
      "Residue ID: 238 vacuum shape: (5,) EE QM/MM shape: (5,) QM/MMPol shape: (5,)\n",
      "Residue ID: 239 vacuum shape: (5,) EE QM/MM shape: (5,) QM/MMPol shape: (5,)\n",
      "Residue ID: 240 vacuum shape: (5,) EE QM/MM shape: (5,) QM/MMPol shape: (5,)\n",
      "Residue ID: 241 vacuum shape: (5,) EE QM/MM shape: (5,) QM/MMPol shape: (5,)\n",
      "Residue ID: 242 vacuum shape: (5,) EE QM/MM shape: (5,) QM/MMPol shape: (5,)\n",
      "Residue ID: 243 vacuum shape: (5,) EE QM/MM shape: (5,) QM/MMPol shape: (5,)\n",
      "Residue ID: 244 vacuum shape: (5,) EE QM/MM shape: (5,) QM/MMPol shape: (5,)\n",
      "Residue ID: 245 vacuum shape: (5,) EE QM/MM shape: (5,) QM/MMPol shape: (5,)\n",
      "Residue ID: 246 vacuum shape: (5,) EE QM/MM shape: (5,) QM/MMPol shape: (5,)\n",
      "vacuum: 17249.75 cm-1 \t EE QM/MM: 17213.62 cm-1 \t QM/MMPol: 16787.41 cm-1\n",
      "17249.74942340515 +/- 2.9664067567770336\n"
     ]
    }
   ],
   "source": [
    "# Load the site energies\n",
    "vac_sites = excipy.util.load_site_energies(excipy_out, kind=\"vac\", units=\"cm_1\")\n",
    "ee_qmmm_sites = excipy.util.load_site_energies(excipy_out, kind=\"env\")\n",
    "qmmmpol_sites = excipy.util.load_site_energies(excipy_out, kind=\"env_pol\")\n",
    "\n",
    "# Site energies coming from GPR have a mean and a variance\n",
    "for resid in vac_sites.keys():\n",
    "    print(\n",
    "        \"Residue ID:\",\n",
    "        resid,\n",
    "        \"vacuum shape:\",\n",
    "        vac_sites[resid][\"mean\"].shape,\n",
    "        \"EE QM/MM shape:\",\n",
    "        ee_qmmm_sites[resid][\"mean\"].shape,\n",
    "        \"QM/MMPol shape:\",\n",
    "        qmmmpol_sites[resid][\"mean\"].shape,\n",
    "    )\n",
    "\n",
    "print(\n",
    "    \"vacuum: {:.2f} cm-1 \\t EE QM/MM: {:.2f} cm-1 \\t QM/MMPol: {:.2f} cm-1\".format(\n",
    "        vac_sites[resid][\"mean\"][0],\n",
    "        ee_qmmm_sites[resid][\"mean\"][0],\n",
    "        qmmmpol_sites[resid][\"mean\"][0],\n",
    "    )\n",
    ")\n",
    "\n",
    "\n",
    "# To get the uncertainty\n",
    "print(vac_sites[resid][\"mean\"][0], \"+/-\", 2 * vac_sites[resid][\"var\"][0] ** 0.5)"
   ]
  },
  {
   "cell_type": "code",
   "execution_count": null,
   "id": "91495cd5-30a8-436c-8b94-c2cd4addcbed",
   "metadata": {},
   "outputs": [],
   "source": []
  }
 ],
 "metadata": {
  "kernelspec": {
   "display_name": "Python 3 (ipykernel)",
   "language": "python",
   "name": "python3"
  },
  "language_info": {
   "codemirror_mode": {
    "name": "ipython",
    "version": 3
   },
   "file_extension": ".py",
   "mimetype": "text/x-python",
   "name": "python",
   "nbconvert_exporter": "python",
   "pygments_lexer": "ipython3",
   "version": "3.7.12"
  }
 },
 "nbformat": 4,
 "nbformat_minor": 5
}
